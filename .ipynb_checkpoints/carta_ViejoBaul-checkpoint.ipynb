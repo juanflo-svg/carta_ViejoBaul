{
 "cells": [
  {
   "cell_type": "markdown",
   "id": "832259f3-f6ae-4b46-ad05-d4e05092092c",
   "metadata": {},
   "source": [
    "<!DOCTYPE html>\r\n",
    "<html lang=\"es\">\r\n",
    "<head>\r\n",
    "    <meta charset=\"UTF-8\">\r\n",
    "    <meta name=\"viewport\" content=\"width=device-width, initial-scale=1.0\">\r\n",
    "    <title>Hola Mundo</title>\r\n",
    "</head>\r\n",
    "<body>\r\n",
    "    <p>Hola Mundo</p>\r\n",
    "</body>\r\n",
    "</html>"
   ]
  },
  {
   "cell_type": "code",
   "execution_count": null,
   "id": "94e53a0d-c95b-4ba2-b96b-3b0dfa31e23a",
   "metadata": {},
   "outputs": [],
   "source": [
    "print(\"Este es un mensaje nuevo\")"
   ]
  }
 ],
 "metadata": {
  "kernelspec": {
   "display_name": "Python 3 (ipykernel)",
   "language": "python",
   "name": "python3"
  },
  "language_info": {
   "codemirror_mode": {
    "name": "ipython",
    "version": 3
   },
   "file_extension": ".py",
   "mimetype": "text/x-python",
   "name": "python",
   "nbconvert_exporter": "python",
   "pygments_lexer": "ipython3",
   "version": "3.11.7"
  }
 },
 "nbformat": 4,
 "nbformat_minor": 5
}
